{
 "cells": [
  {
   "cell_type": "markdown",
   "metadata": {},
   "source": [
    "## Regularización\n",
    "\n",
    "```{index} regularización (lasso ridge y ElasticNet)\n",
    "```\n",
    "\n",
    "### Introducción.\n",
    "\n",
    "En muchas técnicas de machine learning, de lo que se trata de encontrar una serie de coeficientes de tal manera que se minimice una determinada función de coste. En este sentido, la regularización consiste en añadir una determinada penalización a la función de coste. De esta manera, al añadir estas penalizaciones lo que conseguimos es que el modelo obtenido generalice mejor la predicción. Las regularizaciones más utilizadas dentro de la ciencia de datos son las tres siguientes:\n",
    "\n",
    "* Lasso (también conocida como L1)\n",
    "\n",
    "* Ridge (también conocida como L2)\n",
    "\n",
    "* ElasticNet que combina las dos penalizaciones anteriores.\n",
    "\n",
    "### Funcionamiento de la regularización.\n",
    "\n",
    "En la mayor parte de lo problemas de regresión, de lo que se trata es de minimizar la función de coste definida por el error cuadrático medio J.\n",
    "\n",
    "$$ J=MSE$$\n",
    "\n",
    "Cuando se incluye una regularización, lo que se hace es añadir un término a la función de coste que penaliza la complejidad del modelo, y entonces en el caso de MSE se tendrá:\n",
    "\n",
    "$$ J=MSE+\\alpha \\cdot C$$\n",
    "\n",
    "de esta manera C es la medida de complejidad del modelo. Dependiendo de cómo se mida la complejidad, se tendrán diferentes tipos de regularización. El hiperperámetro $\\alpha$ indica cómo de importante es para nosotros que el modelo sea simple en relación a cómo de importante es su rendimiento.\n",
    "\n",
    "Cuando usamos regularización lo que realmente se está haciendo es minimizar la complejidad del modelo a la vez que se minimiza la función de coste. Esto genera modelos más simples que tienden a generalizar mejor. Tener en cuenta que los modelos excesivamente complejos tiende a hacer un sobreajuste del modelo, es decir, a encontrar una solución que funciona muy bien para los datos de entrenamiento pero muy mal para datos nuevos. Lo que interesa es encontrar modelos que además de aprender bien, también tengan una buena capacidad de predicción para datos nuevos.\n",
    "\n",
    "### Regularización Lasso (L1).\n",
    "\n",
    "En este tipo de regularización, la complejidad de C se mide como la media del valor absoluto de los coeficientes del modelo y se puede aplicar a regresiones lineales, polinómicas, regresión logística, redes neuronales, máquinas de vectores de soporte, etc. la expresión mátemática a utilizar sería:\n",
    "\n",
    "$$C=\\frac{1}{N}\\sum\\left|W_{i}\\right| $$\n",
    "\n",
    "Para el caso del error cuadrático medio, a continuación se muestra cual es el desarrollo completo para una regularización Lasso.\n",
    "\n",
    "$$ C=\\frac{1}{M}\\sum_{i=1}^{M}(real_{i}-estimado_{i})^{2}+\\alpha\\cdot\\frac{1}{N}\\sum_{j=1}^{N}\\left|W_{j}\\right|$$\n",
    "\n",
    "Esta regularización es útil cuando sospechemos que varios de los atributos de entrada (features) sean irrelevantes. Al usar Lasso, estamos fomentando que la solución sea poco densa. Es decir, favorecemos que algunos de los coeficientes acaben valiendo 0. Esto puede ser útil para descubrir cuáles de los atributos de entrada son relevantes y en general para obtener un modelo que generalice mejor. Lasso nos puede ayudar en este sentido, a hacer la selección de atributos de entrada. Lasso funciona mejor cuando los atributos no están muy correlados entre ellos.\n",
    "\n",
    "### Regularizacón Ridge (L2).\n",
    "\n",
    "En la regularización Ridge, la complejidad C se mide como la media del cuadrado de los coeficientes del modelo. Al igual que ocurría en Lasso, la regularización Ridge se puede aplicar a varias técnicas de aprendizaje automático. La expresón matemática es la siguiente:\n",
    "\n",
    "$$C=\\frac{1}{2N}\\sum_{j=1}^{N}W_{i}^{2} $$\n",
    "\n",
    "Para el caso del error cuadrático medio, el desarrollo completo de Lasso es:\n",
    "\n",
    "$$C=\\frac{1}{M}\\sum_{i=1}^{M}(real_{i}-estimado_{i})^{2}+\\alpha\\cdot\\frac{1}{2N}\\sum_{j=1}^{N}W_{i}^{2} $$\n",
    "\n",
    "La regularización Ridge es útil cuando se sospeche que varios de los atributos de entrada (features) estén correlados entre ellos. Con Ridge lo que se consigue es que esos coeficientes acaben siendo pequeños. Esta disminución de los coeficientes minimiza el efecto de la correlación entre los atributos de entrada y hace que el modelo generalice mejor. Ridge funciona mejor cuando la mayoría de los atributos son relevantes.\n",
    "\n",
    "### Regularización ElasticNet (L1 y L2)\n",
    "\n",
    "ElasicNet combina las regularizaciones L1 y L2, además con el parámetro r podemos indicar qué importancia relativa tiennen Lasso y Ridge respectivamente. La expresión matemática que rije esta regularización es:\n",
    "\n",
    "$$ C=r \\cdot Lasso +(1-r) \\cdot Ridge $$\n",
    "\n",
    "Desarrollando y utilizando como función de pérdida el error cuadrático medio, se tendrá lo siguiente:\n",
    "\n",
    "$$C=\\frac{1}{M}\\sum_{i=1}^{M}(real_{i}-estimado_{i})^{2}+r\\cdot\\alpha\\cdot\\frac{1}{N}\\sum_{j=1}^{N}\\left|W_{j}\\right|+(1-r)\\cdot\\alpha\\cdot\\frac{1}{2N}\\sum_{j=1}^{N}W_{i}^{2}\n",
    " $$\n",
    "\n",
    "La regularización ElasticNet se utilizará cuando se tenga un gran número de atributos, algunos serán irrelevantes y otros estarán correlados entre ellos."
   ]
  },
  {
   "cell_type": "code",
   "execution_count": null,
   "metadata": {},
   "outputs": [],
   "source": []
  }
 ],
 "metadata": {
  "kernelspec": {
   "display_name": "Python 3",
   "language": "python",
   "name": "python3"
  },
  "language_info": {
   "codemirror_mode": {
    "name": "ipython",
    "version": 3
   },
   "file_extension": ".py",
   "mimetype": "text/x-python",
   "name": "python",
   "nbconvert_exporter": "python",
   "pygments_lexer": "ipython3",
   "version": "3.7.6"
  },
  "toc": {
   "base_numbering": 1,
   "nav_menu": {},
   "number_sections": true,
   "sideBar": true,
   "skip_h1_title": false,
   "title_cell": "Table of Contents",
   "title_sidebar": "Contents",
   "toc_cell": false,
   "toc_position": {},
   "toc_section_display": true,
   "toc_window_display": false
  },
  "varInspector": {
   "cols": {
    "lenName": 16,
    "lenType": 16,
    "lenVar": 40
   },
   "kernels_config": {
    "python": {
     "delete_cmd_postfix": "",
     "delete_cmd_prefix": "del ",
     "library": "var_list.py",
     "varRefreshCmd": "print(var_dic_list())"
    },
    "r": {
     "delete_cmd_postfix": ") ",
     "delete_cmd_prefix": "rm(",
     "library": "var_list.r",
     "varRefreshCmd": "cat(var_dic_list()) "
    }
   },
   "types_to_exclude": [
    "module",
    "function",
    "builtin_function_or_method",
    "instance",
    "_Feature"
   ],
   "window_display": false
  }
 },
 "nbformat": 4,
 "nbformat_minor": 4
}
