{
 "cells": [
  {
   "cell_type": "markdown",
   "metadata": {},
   "source": [
    "## Pipelines , canalizaciones o tuberías.\n",
    "```{index} pipelines o canalizaciones o tuberías\n",
    "```\n",
    "\n",
    "### Introducción\n",
    "Esta herramienta que ofrece Scikit Learn se utiliza mucho en ciencia de datos para poder incorporar en una sola instrucción una serie de transformadores que se combinan con regresores, clasificadores u otros estimadores para obtener con una sola instrucción de scickit learn los resultados que se buscan en un determinado trabajo.\n",
    "\n",
    "Las tuberías se pueden utilizar posteriormente como si fuesen un estimador más. Lo que permite emplearlas en clases como GridSearchCV para seleccionar los parámetros e hiperparametros de los modelos mediante validación cruzada.\n",
    "```{index} GridSearchCV\n",
    "```\n",
    "Uno de los primeros pasos que normalmente se hacen en los procesos de análisis e inferencia sobre los datos es la transformación de los mimos para adaptarlos a las necesidades que el investigador necesita y así poder obtener conclusiones fiables. Para poder realizar estas tareas previas, Scikit Learn posee los denominados transformadores, que se pasan a exponer en el siguiente apartado. \n",
    "\n",
    "### Los transformadores.\n",
    "```{index} transformadores, estimadores\n",
    "```\n",
    "\n",
    "En aprendizaje automático o análisis de datos, la creación de un modelo es un proceso complejo que requiere llevar a cabo múltiples pasos. Siendo la preparación de los datos uno de los que más tiempo requiere. Tras la obtención de un conjunto de datos es necesario aplicarle a este diferentes operaciones antes de poder utilizar un estimador. A modo de ejemplo algunas de las operaciones más habituales son: limpieza de datos, extracción de las características, normalización de las características y reducción de la dimensionalidad.\n",
    "\n",
    "Scikit Learn cuenta con una buena colección de transformadores, que [se pueden encontrar en este enlace](https://scikit-learn.org/stable/data_transforms.html), los cuales permiten hacer las transformaciones oportunas de los datos para que una vez depurados convenientemente o se realicen las acciones indicadas en el párrafo anterior, pasen a ser analizados mediante las diversas técnicas de análisis de datos que ofrece Scikit Learn.\n",
    "\n",
    "Es conjunto de transformadores, puede por ejemplo limpiar los datos iniciales ([preprocesamiento de los datos](https://scikit-learn.org/stable/modules/preprocessing.html#preprocessing)), reducir la dimensión de los mismos, es decir reducir el número de variables a estudiar por otra cantidad inferior pero que conservan la mayor cantidad de información posible del conjunto inicial de los datos ([reducción de la dimensionalidad](https://scikit-learn.org/stable/modules/unsupervised_reduction.html#data-reduction)) o [extraer features](https://scikit-learn.org/stable/modules/feature_extraction.html#feature-extraction).\n",
    "\n",
    "Al igual que otros estimadores, estos están representados por clases con un método *fit*, que aprende los parámetros del modelo (p. ej., media y desviación estándar para la normalización) de un conjunto de entrenamiento, y un método *transform*  que aplica este modelo de transformación a datos no vistos. El método *fit_transform* puede ser más conveniente y eficiente para modelar y transformar los datos de entrenamiento simultáneamente.\n",
    "\n",
    "En Scikit Learn hay que distinguir entre los conceptos de transformadores y estimadores. De forma resumida, se pueden distinguir estas características utilizando el siguiente criterio:\n",
    "\n",
    "* Un **Transformador** se refiere a un objeto con los métodos fit() y transform(), que permiten limpiar, reducir, expandir o generar nueva features. De esta manera, los transformadores ayudan a modificar los datos para que puedan ser pasados a un algoritmo de machine learning. Ejemplos de estos transformadores pueden ser *OneHotEncoder* y *MinMaxScaler*.\n",
    "\n",
    "* Un **Estimador** hace referencia a un modelo de machine learning, y en este sentido será un objeto con los métodos *fit()* y *predict()*.\n",
    "\n",
    "### Construcción y uso de las tuberías.\n",
    "\n",
    "En este apartado, vamos a ver cómo se construyen estas tuberías desde Scikit Learn, y para ello es preciso tener en cuenta que en estas tuberías todos los estimadores, excepto el último, deben ser transformadores (es decir, deberán tener el método transform()), mientras que el último puede ser de cualquier tipo (transformador, clasificador, etc.).\n",
    "\n",
    "Estos objetos pipelines, se construyen utilizando una lista de pares del tipo (clave,valor), de tal manera que clave es una cadena que contiene el nombre específico que se quiere dar a este paso, y valor será el nombre del estimador utilizado.\n",
    "\n",
    "Para entender mejor este concepto veamos a continuación un pequeño ejemplo, en el que se hace primero un análisis de componentes principales y después se calcula un ajuste mediante regresión lineal."
   ]
  },
  {
   "cell_type": "code",
   "execution_count": 10,
   "metadata": {},
   "outputs": [
    {
     "data": {
      "text/plain": [
       "Pipeline(steps=[('reduce_dim', PCA()), ('regresion', LinearRegression())])"
      ]
     },
     "execution_count": 10,
     "metadata": {},
     "output_type": "execute_result"
    }
   ],
   "source": [
    "from sklearn.pipeline import Pipeline\n",
    "from sklearn import linear_model\n",
    "from sklearn.decomposition import PCA\n",
    "estimadores = [('reduce_dim', PCA()), ('regresion', linear_model.LinearRegression())]\n",
    "pipe = Pipeline(estimadores)\n",
    "pipe"
   ]
  },
  {
   "cell_type": "markdown",
   "metadata": {},
   "source": [
    "Los transformadores utilizados en la canalización se pueden almacenar en caché usando el argumento *memory*.\n",
    "\n",
    "La lista de parámetros que se pueden utilizar con esta clase son los siguientes:\n",
    "    \n",
    "* **steps** : Es una lista de tuplas que serán encadenadas en el orden en el que se han declarado en este parámetro.\n",
    "    \n",
    "* **memory** : Se utiliza para poder almacenar en caché los transformadores utilizados en las tuberías.\n",
    "    \n",
    "* **verbose** : Es un valor booleano, que por defecto tiene el valor de False. Si se le cambia a True, se va a mostrar el tiempo empleado en cada paso.\n",
    "\n",
    "Estos parámetros y atributos de la clase  [se pueden ver en este enlace](https://scikit-learn.org/stable/modules/generated/sklearn.pipeline.Pipeline.html). \n",
    "\n",
    "```{index} make_pipeline\n",
    "```\n",
    "\n",
    "Scikit Learn ofrece una función de utilidad denominada [*make_pipeline*](https://scikit-learn.org/stable/modules/generated/sklearn.pipeline.make_pipeline.html) que permite también construir tuberías, de tal forma que esta función toma un número variable de estimadores para devolver una canalización, y los nombres los construye de forma automática. Veamos el ejemplo anterior, pero utilizando este formato abreviado."
   ]
  },
  {
   "cell_type": "code",
   "execution_count": 11,
   "metadata": {},
   "outputs": [
    {
     "data": {
      "text/plain": [
       "Pipeline(steps=[('pca', PCA()), ('linearregression', LinearRegression())])"
      ]
     },
     "execution_count": 11,
     "metadata": {},
     "output_type": "execute_result"
    }
   ],
   "source": [
    "from sklearn.pipeline import make_pipeline\n",
    "from sklearn import linear_model\n",
    "from sklearn.decomposition import PCA\n",
    "#estimadores = [('reduce_dim', PCA()), ('regresion', linear_model.LinearRegression())]\n",
    "pipe2 = make_pipeline(PCA(),linear_model.LinearRegression())\n",
    "pipe2"
   ]
  },
  {
   "cell_type": "markdown",
   "metadata": {},
   "source": [
    "Los estimadores que están en una canalización, se almacenan como una lista en el atributo *steps* y se puede acceder a ellos por el índice:"
   ]
  },
  {
   "cell_type": "code",
   "execution_count": 12,
   "metadata": {},
   "outputs": [
    {
     "data": {
      "text/plain": [
       "('reduce_dim', PCA())"
      ]
     },
     "execution_count": 12,
     "metadata": {},
     "output_type": "execute_result"
    }
   ],
   "source": [
    "pipe.steps[0]"
   ]
  },
  {
   "cell_type": "markdown",
   "metadata": {},
   "source": [
    "Y también se puede acceder mediante el nombre dado a la canalización:"
   ]
  },
  {
   "cell_type": "code",
   "execution_count": 13,
   "metadata": {},
   "outputs": [
    {
     "data": {
      "text/plain": [
       "PCA()"
      ]
     },
     "execution_count": 13,
     "metadata": {},
     "output_type": "execute_result"
    }
   ],
   "source": [
    "pipe2.named_steps[\"pca\"]"
   ]
  },
  {
   "cell_type": "markdown",
   "metadata": {},
   "source": [
    "#### Definiendo los parámetros de los elementos de una canalización.\n",
    "\n",
    "Ya sabemos que las clases que nos ofrece Scikit Learn, tienen una serie de parámetros que permiten hacer ajustes de tal manera que se obtengan modelos los más ajustado posible a los datos con los que se tarabaja.\n",
    "\n",
    "Se pueden acceder a los parámetros de estos estimadores para su modificación en la canalización utilizando para ello la siguiente sintaxis: <estimador>__<parametro>.\n",
    "    \n",
    "En el ejemplo anterior, se ha utilizado un análisis de componentes principales, pero se han utilizado para ello los parámetros que por defecto tienen la clase PCA(), y el número de componentes que se extraen es el que por defecto ofrece esa clase. Si quisiéramos modificar este parámetro, por ejemplo a dos componentes lo haríamos de la siguiente manera: "
   ]
  },
  {
   "cell_type": "code",
   "execution_count": 16,
   "metadata": {},
   "outputs": [
    {
     "data": {
      "text/plain": [
       "Pipeline(steps=[('reduce_dim', PCA(n_components=2)),\n",
       "                ('regresion', LinearRegression())])"
      ]
     },
     "execution_count": 16,
     "metadata": {},
     "output_type": "execute_result"
    }
   ],
   "source": [
    "pipe.set_params(reduce_dim__n_components = 2)"
   ]
  },
  {
   "cell_type": "markdown",
   "metadata": {},
   "source": [
    "Esta posibilidad de poder los valores de los parámetros es muy importante, sobre todo si queremos hacer ajustes del modelo mediante búsquedas de cuadrículas, mediante la clase GridSearchCV. Para este caso, se puede utilizar la línea marcada en el siguiente ejemplo:"
   ]
  },
  {
   "cell_type": "code",
   "execution_count": 18,
   "metadata": {},
   "outputs": [],
   "source": [
    "from sklearn.model_selection import GridSearchCV\n",
    "\n",
    "param_grid = dict(reduce_dim__n_components=[2, 5, 10],\n",
    "                  regresion__fit_intercept=[True,False])\n",
    "\n",
    "grid_search = GridSearchCV(pipe, param_grid=param_grid)\n",
    "\n"
   ]
  },
  {
   "cell_type": "markdown",
   "metadata": {},
   "source": [
    "### Utilización de la caché.\n",
    "\n",
    "La utilización de transformadores puede ser muy costosa en términos de cálculos que pueden hacer. Para intentar mejorar el tiempo de ejecución, la clase pipeline permite almacenar en la caché cada transformador después de llamar al método *fit*. Esta función es utilizada con la finalidad de evitar calcular los transformadores de ajuste dentro de una tubería siempre que los parámetros y los datos de entrada sean idénticos. Esto se puede conseguir gracias a la utilización de parámetro *memory*, el cual puede ser una cadena que contenga el directorio donde almacenar en cache la información de los transformadores o un objeto de tipo *joblib.Memory*. Veamos a continuación un ejemplo:"
   ]
  },
  {
   "cell_type": "code",
   "execution_count": 20,
   "metadata": {},
   "outputs": [
    {
     "data": {
      "text/plain": [
       "Pipeline(memory='C:\\\\Users\\\\FRANCI~1\\\\AppData\\\\Local\\\\Temp\\\\tmpw596oofz',\n",
       "         steps=[('reduce_dim', PCA()), ('clf', SVC())])"
      ]
     },
     "execution_count": 20,
     "metadata": {},
     "output_type": "execute_result"
    }
   ],
   "source": [
    "from tempfile import mkdtemp\n",
    "from shutil import rmtree\n",
    "from sklearn.decomposition import PCA\n",
    "from sklearn.svm import SVC\n",
    "from sklearn.pipeline import Pipeline\n",
    "estimators = [('reduce_dim', PCA()), ('clf', SVC())]\n",
    "cachedir = mkdtemp()\n",
    "pipe = Pipeline(estimators, memory=cachedir)\n",
    "pipe"
   ]
  },
  {
   "cell_type": "code",
   "execution_count": 21,
   "metadata": {},
   "outputs": [],
   "source": [
    "# borramos el directorio de caché para cuando ya no se necesita\n",
    "rmtree(cachedir)"
   ]
  },
  {
   "cell_type": "markdown",
   "metadata": {},
   "source": [
    "Este tipo de tuberías, se apoyan en muchas ocasiones en dos clases que sirven para facilitar el trabajo de preparación de los datos en una determinada operación de machine learning. Estas clases son ColumnTranformer y FeatureUnion, que pasamos a verlas a continuación-"
   ]
  },
  {
   "cell_type": "markdown",
   "metadata": {},
   "source": [
    "### La clase ColumnTransformer .\n",
    "\n",
    "```{index} ColumnTransformer (clase)\n",
    "```\n",
    "\n",
    "Como su propio nombre indica, se utiliza esta clase para hacer una transformación previa de los datos que aparecen en las columnas del dataset (array o dataframe de pandas)sobre el que estamos trabajando.\n",
    "\n",
    "Gracias a esta clase, de una manera separada y mediante una sola instrucción se puede proceder a transformar en diferentes formatos las columnas de nuestro dataset. Además como esta transformación se hace de forma independiente para cada columna, se puede utilizar una programación en paralelo, con la finalidad de agilizar las transformación, lo cual es bastante interesante en los casos en los que trabajemos con ficheros muy voluminosos.\n",
    "\n",
    "Este procedimiento es muy útil para conjunto de datos que tienen columnas heterogéneas de tipos de datos, ya que de esta manera se integran en un sólo transformador diferentes mecanismos de extracción o transformación de información.\n",
    "\n",
    "Los parámetros más importantes de esta clase son los siguientes:\n",
    "\n",
    "* **transformers**. Es una lista de tuplas, de forma que cada tupla tiene el siguiente formato: (nombre, transformador, columnas). El significado de cada elemento de la tupla es el siguiente:\n",
    "    * **nombre**. Es el nombre que asignamos a esta transformación en concreto. Nos servirá  para asignar determinados parámetros al transformador mediante la expresión *set_params*, de forma similar a como se hace con los pipelines ya vistos anteriormente.\n",
    "    * **transformador**. Puede tomar los valores de 'drop', 'passthrough' o un determinado estimador. Este estimador debe admitir los parámetros *fit* y *transform*. Con la opción 'drop' se eliminará la columna, y con 'passthrough', se mantiene la columna tal y como está.\n",
    "    * **columnas**. Hace referencia a la o las columnas sobre las que queremos hace la transformación. Esta referencia a esas columnas, se puede hacer mediante una lista de enteros indicando las posiciones de las columnas, o bien mediante una lista de literales que indican los nombre de las columnas a las que queremos hacer la transformación.\n",
    "    \n",
    "* **remainder*. Con este parámetro lo que se indica es qué hacer con las columnas sobre las que no se ha indicado ningún tipo de transformación, ya que por defecto lo que se hace es prescindir de ese tipo de columnas. El valor por defecto de este parámetro es 'drop', por ese motivo ocurre lo comentado anteriormente. Sin embargo si a este parámetro le asignamos el valor 'passthrough' todas las columnas no especificadas en el parámetro *transformers* se mantienen.\n",
    "\n",
    "* **n_jobs**. Es un parámetro muy indicado para cuando se esté trabajando con un conjunto de datos de mucho peso, ya que con él se está indicando el número de núcleos que se quieren utilizar de nuestro ordenador para hacer un procesamiento en paralelo.\n",
    "\n",
    "```{index} make_column_transformer  (clase)\n",
    "```\n",
    "\n",
    "Existe una clase denominada *[make_column_transformer](https://scikit-learn.org/stable/modules/generated/sklearn.compose.make_column_transformer.html#sklearn.compose.make_column_transformer)*  que está indicada para realizar una función similar a ColumnTransformer pero de una forma más fácil para el usuario de la misma.\n",
    "\n",
    "A continuación pasamos a mostrar un ejemplo sobre la utilización de esta herramienta proporcionada por Scikit Learn. "
   ]
  },
  {
   "cell_type": "code",
   "execution_count": 4,
   "metadata": {},
   "outputs": [],
   "source": [
    "from sklearn.datasets import fetch_openml\n",
    "# Cargamos el conjunto de datos de titanic\n",
    "X, y = fetch_openml(\"titanic\", version=1, as_frame=True, return_X_y=True)"
   ]
  },
  {
   "cell_type": "markdown",
   "metadata": {},
   "source": [
    "Veamos un poco el contenido de este fichero."
   ]
  },
  {
   "cell_type": "code",
   "execution_count": 5,
   "metadata": {},
   "outputs": [
    {
     "data": {
      "text/html": [
       "<div>\n",
       "<style scoped>\n",
       "    .dataframe tbody tr th:only-of-type {\n",
       "        vertical-align: middle;\n",
       "    }\n",
       "\n",
       "    .dataframe tbody tr th {\n",
       "        vertical-align: top;\n",
       "    }\n",
       "\n",
       "    .dataframe thead th {\n",
       "        text-align: right;\n",
       "    }\n",
       "</style>\n",
       "<table border=\"1\" class=\"dataframe\">\n",
       "  <thead>\n",
       "    <tr style=\"text-align: right;\">\n",
       "      <th></th>\n",
       "      <th>pclass</th>\n",
       "      <th>name</th>\n",
       "      <th>sex</th>\n",
       "      <th>age</th>\n",
       "      <th>sibsp</th>\n",
       "      <th>parch</th>\n",
       "      <th>ticket</th>\n",
       "      <th>fare</th>\n",
       "      <th>cabin</th>\n",
       "      <th>embarked</th>\n",
       "      <th>boat</th>\n",
       "      <th>body</th>\n",
       "      <th>home.dest</th>\n",
       "    </tr>\n",
       "  </thead>\n",
       "  <tbody>\n",
       "    <tr>\n",
       "      <th>0</th>\n",
       "      <td>1.0</td>\n",
       "      <td>Allen, Miss. Elisabeth Walton</td>\n",
       "      <td>female</td>\n",
       "      <td>29.0000</td>\n",
       "      <td>0.0</td>\n",
       "      <td>0.0</td>\n",
       "      <td>24160</td>\n",
       "      <td>211.3375</td>\n",
       "      <td>B5</td>\n",
       "      <td>S</td>\n",
       "      <td>2</td>\n",
       "      <td>NaN</td>\n",
       "      <td>St Louis, MO</td>\n",
       "    </tr>\n",
       "    <tr>\n",
       "      <th>1</th>\n",
       "      <td>1.0</td>\n",
       "      <td>Allison, Master. Hudson Trevor</td>\n",
       "      <td>male</td>\n",
       "      <td>0.9167</td>\n",
       "      <td>1.0</td>\n",
       "      <td>2.0</td>\n",
       "      <td>113781</td>\n",
       "      <td>151.5500</td>\n",
       "      <td>C22 C26</td>\n",
       "      <td>S</td>\n",
       "      <td>11</td>\n",
       "      <td>NaN</td>\n",
       "      <td>Montreal, PQ / Chesterville, ON</td>\n",
       "    </tr>\n",
       "    <tr>\n",
       "      <th>2</th>\n",
       "      <td>1.0</td>\n",
       "      <td>Allison, Miss. Helen Loraine</td>\n",
       "      <td>female</td>\n",
       "      <td>2.0000</td>\n",
       "      <td>1.0</td>\n",
       "      <td>2.0</td>\n",
       "      <td>113781</td>\n",
       "      <td>151.5500</td>\n",
       "      <td>C22 C26</td>\n",
       "      <td>S</td>\n",
       "      <td>None</td>\n",
       "      <td>NaN</td>\n",
       "      <td>Montreal, PQ / Chesterville, ON</td>\n",
       "    </tr>\n",
       "    <tr>\n",
       "      <th>3</th>\n",
       "      <td>1.0</td>\n",
       "      <td>Allison, Mr. Hudson Joshua Creighton</td>\n",
       "      <td>male</td>\n",
       "      <td>30.0000</td>\n",
       "      <td>1.0</td>\n",
       "      <td>2.0</td>\n",
       "      <td>113781</td>\n",
       "      <td>151.5500</td>\n",
       "      <td>C22 C26</td>\n",
       "      <td>S</td>\n",
       "      <td>None</td>\n",
       "      <td>135.0</td>\n",
       "      <td>Montreal, PQ / Chesterville, ON</td>\n",
       "    </tr>\n",
       "    <tr>\n",
       "      <th>4</th>\n",
       "      <td>1.0</td>\n",
       "      <td>Allison, Mrs. Hudson J C (Bessie Waldo Daniels)</td>\n",
       "      <td>female</td>\n",
       "      <td>25.0000</td>\n",
       "      <td>1.0</td>\n",
       "      <td>2.0</td>\n",
       "      <td>113781</td>\n",
       "      <td>151.5500</td>\n",
       "      <td>C22 C26</td>\n",
       "      <td>S</td>\n",
       "      <td>None</td>\n",
       "      <td>NaN</td>\n",
       "      <td>Montreal, PQ / Chesterville, ON</td>\n",
       "    </tr>\n",
       "  </tbody>\n",
       "</table>\n",
       "</div>"
      ],
      "text/plain": [
       "   pclass                                             name     sex      age  \\\n",
       "0     1.0                    Allen, Miss. Elisabeth Walton  female  29.0000   \n",
       "1     1.0                   Allison, Master. Hudson Trevor    male   0.9167   \n",
       "2     1.0                     Allison, Miss. Helen Loraine  female   2.0000   \n",
       "3     1.0             Allison, Mr. Hudson Joshua Creighton    male  30.0000   \n",
       "4     1.0  Allison, Mrs. Hudson J C (Bessie Waldo Daniels)  female  25.0000   \n",
       "\n",
       "   sibsp  parch  ticket      fare    cabin embarked  boat   body  \\\n",
       "0    0.0    0.0   24160  211.3375       B5        S     2    NaN   \n",
       "1    1.0    2.0  113781  151.5500  C22 C26        S    11    NaN   \n",
       "2    1.0    2.0  113781  151.5500  C22 C26        S  None    NaN   \n",
       "3    1.0    2.0  113781  151.5500  C22 C26        S  None  135.0   \n",
       "4    1.0    2.0  113781  151.5500  C22 C26        S  None    NaN   \n",
       "\n",
       "                         home.dest  \n",
       "0                     St Louis, MO  \n",
       "1  Montreal, PQ / Chesterville, ON  \n",
       "2  Montreal, PQ / Chesterville, ON  \n",
       "3  Montreal, PQ / Chesterville, ON  \n",
       "4  Montreal, PQ / Chesterville, ON  "
      ]
     },
     "execution_count": 5,
     "metadata": {},
     "output_type": "execute_result"
    }
   ],
   "source": [
    "X.head()"
   ]
  },
  {
   "cell_type": "markdown",
   "metadata": {},
   "source": [
    "Como podemos observar este conjunto de datos presenta campos de muy diversa índole, y así por ejemplo tenemos variables de tipo categórico: pclass, sex, embarked. También hay variables de tipo numérico como age, ticket.\n",
    "\n",
    "Algunas características de estas variables, se pueden obtener de forma cómoda con el método *describe()*."
   ]
  },
  {
   "cell_type": "code",
   "execution_count": 6,
   "metadata": {},
   "outputs": [
    {
     "data": {
      "text/html": [
       "<div>\n",
       "<style scoped>\n",
       "    .dataframe tbody tr th:only-of-type {\n",
       "        vertical-align: middle;\n",
       "    }\n",
       "\n",
       "    .dataframe tbody tr th {\n",
       "        vertical-align: top;\n",
       "    }\n",
       "\n",
       "    .dataframe thead th {\n",
       "        text-align: right;\n",
       "    }\n",
       "</style>\n",
       "<table border=\"1\" class=\"dataframe\">\n",
       "  <thead>\n",
       "    <tr style=\"text-align: right;\">\n",
       "      <th></th>\n",
       "      <th>pclass</th>\n",
       "      <th>age</th>\n",
       "      <th>sibsp</th>\n",
       "      <th>parch</th>\n",
       "      <th>fare</th>\n",
       "      <th>body</th>\n",
       "    </tr>\n",
       "  </thead>\n",
       "  <tbody>\n",
       "    <tr>\n",
       "      <th>count</th>\n",
       "      <td>1309.000000</td>\n",
       "      <td>1046.000000</td>\n",
       "      <td>1309.000000</td>\n",
       "      <td>1309.000000</td>\n",
       "      <td>1308.000000</td>\n",
       "      <td>121.000000</td>\n",
       "    </tr>\n",
       "    <tr>\n",
       "      <th>mean</th>\n",
       "      <td>2.294882</td>\n",
       "      <td>29.881135</td>\n",
       "      <td>0.498854</td>\n",
       "      <td>0.385027</td>\n",
       "      <td>33.295479</td>\n",
       "      <td>160.809917</td>\n",
       "    </tr>\n",
       "    <tr>\n",
       "      <th>std</th>\n",
       "      <td>0.837836</td>\n",
       "      <td>14.413500</td>\n",
       "      <td>1.041658</td>\n",
       "      <td>0.865560</td>\n",
       "      <td>51.758668</td>\n",
       "      <td>97.696922</td>\n",
       "    </tr>\n",
       "    <tr>\n",
       "      <th>min</th>\n",
       "      <td>1.000000</td>\n",
       "      <td>0.166700</td>\n",
       "      <td>0.000000</td>\n",
       "      <td>0.000000</td>\n",
       "      <td>0.000000</td>\n",
       "      <td>1.000000</td>\n",
       "    </tr>\n",
       "    <tr>\n",
       "      <th>25%</th>\n",
       "      <td>2.000000</td>\n",
       "      <td>21.000000</td>\n",
       "      <td>0.000000</td>\n",
       "      <td>0.000000</td>\n",
       "      <td>7.895800</td>\n",
       "      <td>72.000000</td>\n",
       "    </tr>\n",
       "    <tr>\n",
       "      <th>50%</th>\n",
       "      <td>3.000000</td>\n",
       "      <td>28.000000</td>\n",
       "      <td>0.000000</td>\n",
       "      <td>0.000000</td>\n",
       "      <td>14.454200</td>\n",
       "      <td>155.000000</td>\n",
       "    </tr>\n",
       "    <tr>\n",
       "      <th>75%</th>\n",
       "      <td>3.000000</td>\n",
       "      <td>39.000000</td>\n",
       "      <td>1.000000</td>\n",
       "      <td>0.000000</td>\n",
       "      <td>31.275000</td>\n",
       "      <td>256.000000</td>\n",
       "    </tr>\n",
       "    <tr>\n",
       "      <th>max</th>\n",
       "      <td>3.000000</td>\n",
       "      <td>80.000000</td>\n",
       "      <td>8.000000</td>\n",
       "      <td>9.000000</td>\n",
       "      <td>512.329200</td>\n",
       "      <td>328.000000</td>\n",
       "    </tr>\n",
       "  </tbody>\n",
       "</table>\n",
       "</div>"
      ],
      "text/plain": [
       "            pclass          age        sibsp        parch         fare  \\\n",
       "count  1309.000000  1046.000000  1309.000000  1309.000000  1308.000000   \n",
       "mean      2.294882    29.881135     0.498854     0.385027    33.295479   \n",
       "std       0.837836    14.413500     1.041658     0.865560    51.758668   \n",
       "min       1.000000     0.166700     0.000000     0.000000     0.000000   \n",
       "25%       2.000000    21.000000     0.000000     0.000000     7.895800   \n",
       "50%       3.000000    28.000000     0.000000     0.000000    14.454200   \n",
       "75%       3.000000    39.000000     1.000000     0.000000    31.275000   \n",
       "max       3.000000    80.000000     8.000000     9.000000   512.329200   \n",
       "\n",
       "             body  \n",
       "count  121.000000  \n",
       "mean   160.809917  \n",
       "std     97.696922  \n",
       "min      1.000000  \n",
       "25%     72.000000  \n",
       "50%    155.000000  \n",
       "75%    256.000000  \n",
       "max    328.000000  "
      ]
     },
     "execution_count": 6,
     "metadata": {},
     "output_type": "execute_result"
    }
   ],
   "source": [
    "X.describe()"
   ]
  },
  {
   "cell_type": "markdown",
   "metadata": {},
   "source": [
    "También podemos obtener información del tipo de variable con el que estamos trabajando con la siguiente instrucción:"
   ]
  },
  {
   "cell_type": "code",
   "execution_count": 7,
   "metadata": {},
   "outputs": [
    {
     "name": "stdout",
     "output_type": "stream",
     "text": [
      "<class 'pandas.core.frame.DataFrame'>\n",
      "RangeIndex: 1309 entries, 0 to 1308\n",
      "Data columns (total 13 columns):\n",
      " #   Column     Non-Null Count  Dtype   \n",
      "---  ------     --------------  -----   \n",
      " 0   pclass     1309 non-null   float64 \n",
      " 1   name       1309 non-null   object  \n",
      " 2   sex        1309 non-null   category\n",
      " 3   age        1046 non-null   float64 \n",
      " 4   sibsp      1309 non-null   float64 \n",
      " 5   parch      1309 non-null   float64 \n",
      " 6   ticket     1309 non-null   object  \n",
      " 7   fare       1308 non-null   float64 \n",
      " 8   cabin      295 non-null    object  \n",
      " 9   embarked   1307 non-null   category\n",
      " 10  boat       486 non-null    object  \n",
      " 11  body       121 non-null    float64 \n",
      " 12  home.dest  745 non-null    object  \n",
      "dtypes: category(2), float64(6), object(5)\n",
      "memory usage: 115.4+ KB\n"
     ]
    }
   ],
   "source": [
    "X.info()"
   ]
  },
  {
   "cell_type": "markdown",
   "metadata": {},
   "source": [
    "De acuerdo con la información obtenida en los pasos anteriores, vamos a proceder a hacer lo siguiente con todas las variables que conforman nuestro conjunto de datos:\n",
    "\n",
    "* name, cabin, boat, body, home.dest, se van a borrar de la base de datos.\n",
    "\n",
    "* sex, embarked se van a recodificar\n",
    "\n",
    "* age, sibsp, fare, se van a escalar."
   ]
  },
  {
   "cell_type": "markdown",
   "metadata": {},
   "source": [
    "```{index} get_dummies()  (pandas)\n",
    "```\n",
    "\n",
    "Veamos inicialmente cómo poder hacer todas estas transformaciones de una forma secuencial. En primer lugar vamos a recodificar como variables de tipo dummies las indicadas anteriormente, para lo cual se empleará el método get_dummies() de pandas."
   ]
  },
  {
   "cell_type": "code",
   "execution_count": 11,
   "metadata": {},
   "outputs": [
    {
     "data": {
      "text/html": [
       "<div>\n",
       "<style scoped>\n",
       "    .dataframe tbody tr th:only-of-type {\n",
       "        vertical-align: middle;\n",
       "    }\n",
       "\n",
       "    .dataframe tbody tr th {\n",
       "        vertical-align: top;\n",
       "    }\n",
       "\n",
       "    .dataframe thead th {\n",
       "        text-align: right;\n",
       "    }\n",
       "</style>\n",
       "<table border=\"1\" class=\"dataframe\">\n",
       "  <thead>\n",
       "    <tr style=\"text-align: right;\">\n",
       "      <th></th>\n",
       "      <th>pclass</th>\n",
       "      <th>name</th>\n",
       "      <th>age</th>\n",
       "      <th>sibsp</th>\n",
       "      <th>parch</th>\n",
       "      <th>ticket</th>\n",
       "      <th>fare</th>\n",
       "      <th>cabin</th>\n",
       "      <th>boat</th>\n",
       "      <th>body</th>\n",
       "      <th>home.dest</th>\n",
       "      <th>sex_male</th>\n",
       "      <th>embarked_Q</th>\n",
       "      <th>embarked_S</th>\n",
       "    </tr>\n",
       "  </thead>\n",
       "  <tbody>\n",
       "    <tr>\n",
       "      <th>0</th>\n",
       "      <td>1.0</td>\n",
       "      <td>Allen, Miss. Elisabeth Walton</td>\n",
       "      <td>29.0000</td>\n",
       "      <td>0.0</td>\n",
       "      <td>0.0</td>\n",
       "      <td>24160</td>\n",
       "      <td>211.3375</td>\n",
       "      <td>B5</td>\n",
       "      <td>2</td>\n",
       "      <td>NaN</td>\n",
       "      <td>St Louis, MO</td>\n",
       "      <td>0</td>\n",
       "      <td>0</td>\n",
       "      <td>1</td>\n",
       "    </tr>\n",
       "    <tr>\n",
       "      <th>1</th>\n",
       "      <td>1.0</td>\n",
       "      <td>Allison, Master. Hudson Trevor</td>\n",
       "      <td>0.9167</td>\n",
       "      <td>1.0</td>\n",
       "      <td>2.0</td>\n",
       "      <td>113781</td>\n",
       "      <td>151.5500</td>\n",
       "      <td>C22 C26</td>\n",
       "      <td>11</td>\n",
       "      <td>NaN</td>\n",
       "      <td>Montreal, PQ / Chesterville, ON</td>\n",
       "      <td>1</td>\n",
       "      <td>0</td>\n",
       "      <td>1</td>\n",
       "    </tr>\n",
       "    <tr>\n",
       "      <th>2</th>\n",
       "      <td>1.0</td>\n",
       "      <td>Allison, Miss. Helen Loraine</td>\n",
       "      <td>2.0000</td>\n",
       "      <td>1.0</td>\n",
       "      <td>2.0</td>\n",
       "      <td>113781</td>\n",
       "      <td>151.5500</td>\n",
       "      <td>C22 C26</td>\n",
       "      <td>None</td>\n",
       "      <td>NaN</td>\n",
       "      <td>Montreal, PQ / Chesterville, ON</td>\n",
       "      <td>0</td>\n",
       "      <td>0</td>\n",
       "      <td>1</td>\n",
       "    </tr>\n",
       "    <tr>\n",
       "      <th>3</th>\n",
       "      <td>1.0</td>\n",
       "      <td>Allison, Mr. Hudson Joshua Creighton</td>\n",
       "      <td>30.0000</td>\n",
       "      <td>1.0</td>\n",
       "      <td>2.0</td>\n",
       "      <td>113781</td>\n",
       "      <td>151.5500</td>\n",
       "      <td>C22 C26</td>\n",
       "      <td>None</td>\n",
       "      <td>135.0</td>\n",
       "      <td>Montreal, PQ / Chesterville, ON</td>\n",
       "      <td>1</td>\n",
       "      <td>0</td>\n",
       "      <td>1</td>\n",
       "    </tr>\n",
       "    <tr>\n",
       "      <th>4</th>\n",
       "      <td>1.0</td>\n",
       "      <td>Allison, Mrs. Hudson J C (Bessie Waldo Daniels)</td>\n",
       "      <td>25.0000</td>\n",
       "      <td>1.0</td>\n",
       "      <td>2.0</td>\n",
       "      <td>113781</td>\n",
       "      <td>151.5500</td>\n",
       "      <td>C22 C26</td>\n",
       "      <td>None</td>\n",
       "      <td>NaN</td>\n",
       "      <td>Montreal, PQ / Chesterville, ON</td>\n",
       "      <td>0</td>\n",
       "      <td>0</td>\n",
       "      <td>1</td>\n",
       "    </tr>\n",
       "  </tbody>\n",
       "</table>\n",
       "</div>"
      ],
      "text/plain": [
       "   pclass                                             name      age  sibsp  \\\n",
       "0     1.0                    Allen, Miss. Elisabeth Walton  29.0000    0.0   \n",
       "1     1.0                   Allison, Master. Hudson Trevor   0.9167    1.0   \n",
       "2     1.0                     Allison, Miss. Helen Loraine   2.0000    1.0   \n",
       "3     1.0             Allison, Mr. Hudson Joshua Creighton  30.0000    1.0   \n",
       "4     1.0  Allison, Mrs. Hudson J C (Bessie Waldo Daniels)  25.0000    1.0   \n",
       "\n",
       "   parch  ticket      fare    cabin  boat   body  \\\n",
       "0    0.0   24160  211.3375       B5     2    NaN   \n",
       "1    2.0  113781  151.5500  C22 C26    11    NaN   \n",
       "2    2.0  113781  151.5500  C22 C26  None    NaN   \n",
       "3    2.0  113781  151.5500  C22 C26  None  135.0   \n",
       "4    2.0  113781  151.5500  C22 C26  None    NaN   \n",
       "\n",
       "                         home.dest  sex_male  embarked_Q  embarked_S  \n",
       "0                     St Louis, MO         0           0           1  \n",
       "1  Montreal, PQ / Chesterville, ON         1           0           1  \n",
       "2  Montreal, PQ / Chesterville, ON         0           0           1  \n",
       "3  Montreal, PQ / Chesterville, ON         1           0           1  \n",
       "4  Montreal, PQ / Chesterville, ON         0           0           1  "
      ]
     },
     "execution_count": 11,
     "metadata": {},
     "output_type": "execute_result"
    }
   ],
   "source": [
    "import pandas as pd\n",
    "\n",
    "X = pd.get_dummies(X, columns=['sex', 'embarked'], drop_first=True)\n",
    "\n",
    "X.head()"
   ]
  },
  {
   "cell_type": "markdown",
   "metadata": {},
   "source": [
    "A continuación procedemos a escalar (es decir convertirlas en variables con media igual a cero y varianza igual a 1) las variables  age, sibsp,y fare, para lo cual empleamos la clase StandardScaler."
   ]
  },
  {
   "cell_type": "code",
   "execution_count": 16,
   "metadata": {},
   "outputs": [
    {
     "data": {
      "text/html": [
       "<div>\n",
       "<style scoped>\n",
       "    .dataframe tbody tr th:only-of-type {\n",
       "        vertical-align: middle;\n",
       "    }\n",
       "\n",
       "    .dataframe tbody tr th {\n",
       "        vertical-align: top;\n",
       "    }\n",
       "\n",
       "    .dataframe thead th {\n",
       "        text-align: right;\n",
       "    }\n",
       "</style>\n",
       "<table border=\"1\" class=\"dataframe\">\n",
       "  <thead>\n",
       "    <tr style=\"text-align: right;\">\n",
       "      <th></th>\n",
       "      <th>age</th>\n",
       "      <th>sibsp</th>\n",
       "      <th>fare</th>\n",
       "    </tr>\n",
       "  </thead>\n",
       "  <tbody>\n",
       "    <tr>\n",
       "      <th>0</th>\n",
       "      <td>-0.061162</td>\n",
       "      <td>-0.479087</td>\n",
       "      <td>3.441165</td>\n",
       "    </tr>\n",
       "    <tr>\n",
       "      <th>1</th>\n",
       "      <td>-2.010496</td>\n",
       "      <td>0.481288</td>\n",
       "      <td>2.285603</td>\n",
       "    </tr>\n",
       "    <tr>\n",
       "      <th>2</th>\n",
       "      <td>-1.935302</td>\n",
       "      <td>0.481288</td>\n",
       "      <td>2.285603</td>\n",
       "    </tr>\n",
       "    <tr>\n",
       "      <th>3</th>\n",
       "      <td>0.008251</td>\n",
       "      <td>0.481288</td>\n",
       "      <td>2.285603</td>\n",
       "    </tr>\n",
       "    <tr>\n",
       "      <th>4</th>\n",
       "      <td>-0.338812</td>\n",
       "      <td>0.481288</td>\n",
       "      <td>2.285603</td>\n",
       "    </tr>\n",
       "  </tbody>\n",
       "</table>\n",
       "</div>"
      ],
      "text/plain": [
       "        age     sibsp      fare\n",
       "0 -0.061162 -0.479087  3.441165\n",
       "1 -2.010496  0.481288  2.285603\n",
       "2 -1.935302  0.481288  2.285603\n",
       "3  0.008251  0.481288  2.285603\n",
       "4 -0.338812  0.481288  2.285603"
      ]
     },
     "execution_count": 16,
     "metadata": {},
     "output_type": "execute_result"
    }
   ],
   "source": [
    "from sklearn.preprocessing import StandardScaler\n",
    "\n",
    "scaler = StandardScaler()\n",
    "scaled_X = scaler.fit_transform(X.loc[:,['age', 'sibsp', 'fare']])\n",
    "\n",
    "X2 = pd.DataFrame(scaled_X, columns=['age', 'sibsp', 'fare'])\n",
    "X2.head()"
   ]
  },
  {
   "cell_type": "markdown",
   "metadata": {},
   "source": [
    "Como puede verse, para realizar el paso anterior hemos tenido que seleccionar previamente las columnas que queremos estandarizar y al final obtenemos un conjunto de datos separado del inicial. Si no lo hacemos de esta manera y trabajamos son todo el conjunto de datos inicial, obtendríamos un error de python que nos diría por ejemplo que las variables de tipo alfanumérico no las puede estandarizar.\n",
    "\n",
    "Entonces para hacer este procedimiento de manera secuencial, lo que se puede hacer es dividir el conjunto de datos inicial en subconjuntos a los que se les aplica la transformación que queremos hacer y después unir todos ellos en un sólo conjunto de datos.\n",
    "\n",
    "Para una mayor claridad de este procedimiento, vamos a ir paso a paso haciendo esto con nuestro conjunto de datos con los que estamos trabajando."
   ]
  },
  {
   "cell_type": "code",
   "execution_count": 25,
   "metadata": {},
   "outputs": [],
   "source": [
    "# Cargamos el conjunto de datos de titanic\n",
    "X, y = fetch_openml(\"titanic\", version=1, as_frame=True, return_X_y=True)\n",
    "\n",
    "# separamos los datos\n",
    "categoricas = X.loc[:,['sex', 'embarked']]\n",
    "numericas = X.loc[:,['age', 'sibsp', 'fare']]\n",
    "borrar = X.loc[:,\n",
    "               [y for y in X.columns if y not in list(categoricas.columns)+list(numericas.columns)]]"
   ]
  },
  {
   "cell_type": "markdown",
   "metadata": {},
   "source": [
    "Una vez tenemos separados los datos podemos hacer las transformaciones pertinente en cada uno de estos subconjuntos.\n",
    "\n",
    "```{index} OneHotEncoder\n",
    "```\n",
    "\n",
    "Comenzamos por aplicar la clase OneHotEncoder a las variables de tipo categórico."
   ]
  },
  {
   "cell_type": "code",
   "execution_count": 27,
   "metadata": {},
   "outputs": [
    {
     "data": {
      "text/html": [
       "<div>\n",
       "<style scoped>\n",
       "    .dataframe tbody tr th:only-of-type {\n",
       "        vertical-align: middle;\n",
       "    }\n",
       "\n",
       "    .dataframe tbody tr th {\n",
       "        vertical-align: top;\n",
       "    }\n",
       "\n",
       "    .dataframe thead th {\n",
       "        text-align: right;\n",
       "    }\n",
       "</style>\n",
       "<table border=\"1\" class=\"dataframe\">\n",
       "  <thead>\n",
       "    <tr style=\"text-align: right;\">\n",
       "      <th></th>\n",
       "      <th>sex_male</th>\n",
       "      <th>embarked_Q</th>\n",
       "      <th>embarked_S</th>\n",
       "      <th>embarked_nan</th>\n",
       "    </tr>\n",
       "  </thead>\n",
       "  <tbody>\n",
       "    <tr>\n",
       "      <th>0</th>\n",
       "      <td>0</td>\n",
       "      <td>0</td>\n",
       "      <td>1</td>\n",
       "      <td>0</td>\n",
       "    </tr>\n",
       "    <tr>\n",
       "      <th>1</th>\n",
       "      <td>1</td>\n",
       "      <td>0</td>\n",
       "      <td>1</td>\n",
       "      <td>0</td>\n",
       "    </tr>\n",
       "    <tr>\n",
       "      <th>2</th>\n",
       "      <td>0</td>\n",
       "      <td>0</td>\n",
       "      <td>1</td>\n",
       "      <td>0</td>\n",
       "    </tr>\n",
       "    <tr>\n",
       "      <th>3</th>\n",
       "      <td>1</td>\n",
       "      <td>0</td>\n",
       "      <td>1</td>\n",
       "      <td>0</td>\n",
       "    </tr>\n",
       "    <tr>\n",
       "      <th>4</th>\n",
       "      <td>0</td>\n",
       "      <td>0</td>\n",
       "      <td>1</td>\n",
       "      <td>0</td>\n",
       "    </tr>\n",
       "  </tbody>\n",
       "</table>\n",
       "</div>"
      ],
      "text/plain": [
       "   sex_male  embarked_Q  embarked_S  embarked_nan\n",
       "0         0           0           1             0\n",
       "1         1           0           1             0\n",
       "2         0           0           1             0\n",
       "3         1           0           1             0\n",
       "4         0           0           1             0"
      ]
     },
     "execution_count": 27,
     "metadata": {},
     "output_type": "execute_result"
    }
   ],
   "source": [
    "from sklearn.preprocessing import OneHotEncoder\n",
    "\n",
    "encoder = OneHotEncoder(dtype='int', drop='first')\n",
    "encoded_raw = encoder.fit_transform(categoricas)\n",
    "\n",
    "categoricas = pd.DataFrame(\n",
    "    encoded_raw.toarray(), \n",
    "    columns=encoder.get_feature_names_out()\n",
    ")\n",
    "categoricas.head()"
   ]
  },
  {
   "cell_type": "markdown",
   "metadata": {},
   "source": [
    "Ahora procedemos a estanadarizar las variables numéricas elegidas"
   ]
  },
  {
   "cell_type": "code",
   "execution_count": 29,
   "metadata": {},
   "outputs": [
    {
     "data": {
      "text/html": [
       "<div>\n",
       "<style scoped>\n",
       "    .dataframe tbody tr th:only-of-type {\n",
       "        vertical-align: middle;\n",
       "    }\n",
       "\n",
       "    .dataframe tbody tr th {\n",
       "        vertical-align: top;\n",
       "    }\n",
       "\n",
       "    .dataframe thead th {\n",
       "        text-align: right;\n",
       "    }\n",
       "</style>\n",
       "<table border=\"1\" class=\"dataframe\">\n",
       "  <thead>\n",
       "    <tr style=\"text-align: right;\">\n",
       "      <th></th>\n",
       "      <th>age</th>\n",
       "      <th>sibsp</th>\n",
       "      <th>fare</th>\n",
       "    </tr>\n",
       "  </thead>\n",
       "  <tbody>\n",
       "    <tr>\n",
       "      <th>0</th>\n",
       "      <td>-0.061162</td>\n",
       "      <td>-0.479087</td>\n",
       "      <td>3.441165</td>\n",
       "    </tr>\n",
       "    <tr>\n",
       "      <th>1</th>\n",
       "      <td>-2.010496</td>\n",
       "      <td>0.481288</td>\n",
       "      <td>2.285603</td>\n",
       "    </tr>\n",
       "    <tr>\n",
       "      <th>2</th>\n",
       "      <td>-1.935302</td>\n",
       "      <td>0.481288</td>\n",
       "      <td>2.285603</td>\n",
       "    </tr>\n",
       "    <tr>\n",
       "      <th>3</th>\n",
       "      <td>0.008251</td>\n",
       "      <td>0.481288</td>\n",
       "      <td>2.285603</td>\n",
       "    </tr>\n",
       "    <tr>\n",
       "      <th>4</th>\n",
       "      <td>-0.338812</td>\n",
       "      <td>0.481288</td>\n",
       "      <td>2.285603</td>\n",
       "    </tr>\n",
       "  </tbody>\n",
       "</table>\n",
       "</div>"
      ],
      "text/plain": [
       "        age     sibsp      fare\n",
       "0 -0.061162 -0.479087  3.441165\n",
       "1 -2.010496  0.481288  2.285603\n",
       "2 -1.935302  0.481288  2.285603\n",
       "3  0.008251  0.481288  2.285603\n",
       "4 -0.338812  0.481288  2.285603"
      ]
     },
     "execution_count": 29,
     "metadata": {},
     "output_type": "execute_result"
    }
   ],
   "source": [
    "scaler = StandardScaler()\n",
    "scaled_raw = scaler.fit_transform(numericas)\n",
    "\n",
    "numericas = pd.DataFrame(\n",
    "    scaled_raw, \n",
    "    columns=numericas.columns\n",
    ")\n",
    "numericas.head()"
   ]
  },
  {
   "cell_type": "markdown",
   "metadata": {},
   "source": [
    "Y por último procederíamos a integrar estos subconjuntos en uno sólo"
   ]
  },
  {
   "cell_type": "code",
   "execution_count": 31,
   "metadata": {},
   "outputs": [
    {
     "data": {
      "text/html": [
       "<div>\n",
       "<style scoped>\n",
       "    .dataframe tbody tr th:only-of-type {\n",
       "        vertical-align: middle;\n",
       "    }\n",
       "\n",
       "    .dataframe tbody tr th {\n",
       "        vertical-align: top;\n",
       "    }\n",
       "\n",
       "    .dataframe thead th {\n",
       "        text-align: right;\n",
       "    }\n",
       "</style>\n",
       "<table border=\"1\" class=\"dataframe\">\n",
       "  <thead>\n",
       "    <tr style=\"text-align: right;\">\n",
       "      <th></th>\n",
       "      <th>sex_male</th>\n",
       "      <th>embarked_Q</th>\n",
       "      <th>embarked_S</th>\n",
       "      <th>embarked_nan</th>\n",
       "      <th>age</th>\n",
       "      <th>sibsp</th>\n",
       "      <th>fare</th>\n",
       "    </tr>\n",
       "  </thead>\n",
       "  <tbody>\n",
       "    <tr>\n",
       "      <th>0</th>\n",
       "      <td>0</td>\n",
       "      <td>0</td>\n",
       "      <td>1</td>\n",
       "      <td>0</td>\n",
       "      <td>-0.061162</td>\n",
       "      <td>-0.479087</td>\n",
       "      <td>3.441165</td>\n",
       "    </tr>\n",
       "    <tr>\n",
       "      <th>1</th>\n",
       "      <td>1</td>\n",
       "      <td>0</td>\n",
       "      <td>1</td>\n",
       "      <td>0</td>\n",
       "      <td>-2.010496</td>\n",
       "      <td>0.481288</td>\n",
       "      <td>2.285603</td>\n",
       "    </tr>\n",
       "    <tr>\n",
       "      <th>2</th>\n",
       "      <td>0</td>\n",
       "      <td>0</td>\n",
       "      <td>1</td>\n",
       "      <td>0</td>\n",
       "      <td>-1.935302</td>\n",
       "      <td>0.481288</td>\n",
       "      <td>2.285603</td>\n",
       "    </tr>\n",
       "    <tr>\n",
       "      <th>3</th>\n",
       "      <td>1</td>\n",
       "      <td>0</td>\n",
       "      <td>1</td>\n",
       "      <td>0</td>\n",
       "      <td>0.008251</td>\n",
       "      <td>0.481288</td>\n",
       "      <td>2.285603</td>\n",
       "    </tr>\n",
       "    <tr>\n",
       "      <th>4</th>\n",
       "      <td>0</td>\n",
       "      <td>0</td>\n",
       "      <td>1</td>\n",
       "      <td>0</td>\n",
       "      <td>-0.338812</td>\n",
       "      <td>0.481288</td>\n",
       "      <td>2.285603</td>\n",
       "    </tr>\n",
       "  </tbody>\n",
       "</table>\n",
       "</div>"
      ],
      "text/plain": [
       "   sex_male  embarked_Q  embarked_S  embarked_nan       age     sibsp  \\\n",
       "0         0           0           1             0 -0.061162 -0.479087   \n",
       "1         1           0           1             0 -2.010496  0.481288   \n",
       "2         0           0           1             0 -1.935302  0.481288   \n",
       "3         1           0           1             0  0.008251  0.481288   \n",
       "4         0           0           1             0 -0.338812  0.481288   \n",
       "\n",
       "       fare  \n",
       "0  3.441165  \n",
       "1  2.285603  \n",
       "2  2.285603  \n",
       "3  2.285603  \n",
       "4  2.285603  "
      ]
     },
     "execution_count": 31,
     "metadata": {},
     "output_type": "execute_result"
    }
   ],
   "source": [
    "final = pd.concat([categoricas,numericas], axis='columns')\n",
    "final.head()"
   ]
  },
  {
   "cell_type": "markdown",
   "metadata": {},
   "source": [
    "Todos los procedimientos que se han realizado anteriormente son correctos, pero para hacerlos hemos necesitado hacer una serie de pasos previos que ralentiza el procedimiento. A continuación vamos a hacer lo anterior pro utilizando la clase *ColumnTransformer*, gracias a la cual podemos integrar todo lo anterior en pocas lineas de código, y además podremos contar con la ventaja de hacer una ejecución en paralelo, ya que las transformaciones que se hacen sobre cada una de las columnas son independientes. Veamos cómo hacer todo esto a continuación."
   ]
  },
  {
   "cell_type": "code",
   "execution_count": 32,
   "metadata": {},
   "outputs": [],
   "source": [
    "\n",
    "\n",
    "transformaciones = [\n",
    "('codificacion', OneHotEncoder(dtype='int',drop='first'),['sex', 'embarked']), \n",
    "('scale', StandardScaler(), ['age', 'sibsp', 'fare'])\n",
    "]"
   ]
  },
  {
   "cell_type": "code",
   "execution_count": 36,
   "metadata": {},
   "outputs": [
    {
     "data": {
      "text/html": [
       "<div>\n",
       "<style scoped>\n",
       "    .dataframe tbody tr th:only-of-type {\n",
       "        vertical-align: middle;\n",
       "    }\n",
       "\n",
       "    .dataframe tbody tr th {\n",
       "        vertical-align: top;\n",
       "    }\n",
       "\n",
       "    .dataframe thead th {\n",
       "        text-align: right;\n",
       "    }\n",
       "</style>\n",
       "<table border=\"1\" class=\"dataframe\">\n",
       "  <thead>\n",
       "    <tr style=\"text-align: right;\">\n",
       "      <th></th>\n",
       "      <th>codificacion__sex_male</th>\n",
       "      <th>codificacion__embarked_Q</th>\n",
       "      <th>codificacion__embarked_S</th>\n",
       "      <th>codificacion__embarked_nan</th>\n",
       "      <th>scale__age</th>\n",
       "      <th>scale__sibsp</th>\n",
       "      <th>scale__fare</th>\n",
       "    </tr>\n",
       "  </thead>\n",
       "  <tbody>\n",
       "    <tr>\n",
       "      <th>0</th>\n",
       "      <td>0.0</td>\n",
       "      <td>0.0</td>\n",
       "      <td>1.0</td>\n",
       "      <td>0.0</td>\n",
       "      <td>-0.061162</td>\n",
       "      <td>-0.479087</td>\n",
       "      <td>3.441165</td>\n",
       "    </tr>\n",
       "    <tr>\n",
       "      <th>1</th>\n",
       "      <td>1.0</td>\n",
       "      <td>0.0</td>\n",
       "      <td>1.0</td>\n",
       "      <td>0.0</td>\n",
       "      <td>-2.010496</td>\n",
       "      <td>0.481288</td>\n",
       "      <td>2.285603</td>\n",
       "    </tr>\n",
       "    <tr>\n",
       "      <th>2</th>\n",
       "      <td>0.0</td>\n",
       "      <td>0.0</td>\n",
       "      <td>1.0</td>\n",
       "      <td>0.0</td>\n",
       "      <td>-1.935302</td>\n",
       "      <td>0.481288</td>\n",
       "      <td>2.285603</td>\n",
       "    </tr>\n",
       "    <tr>\n",
       "      <th>3</th>\n",
       "      <td>1.0</td>\n",
       "      <td>0.0</td>\n",
       "      <td>1.0</td>\n",
       "      <td>0.0</td>\n",
       "      <td>0.008251</td>\n",
       "      <td>0.481288</td>\n",
       "      <td>2.285603</td>\n",
       "    </tr>\n",
       "    <tr>\n",
       "      <th>4</th>\n",
       "      <td>0.0</td>\n",
       "      <td>0.0</td>\n",
       "      <td>1.0</td>\n",
       "      <td>0.0</td>\n",
       "      <td>-0.338812</td>\n",
       "      <td>0.481288</td>\n",
       "      <td>2.285603</td>\n",
       "    </tr>\n",
       "  </tbody>\n",
       "</table>\n",
       "</div>"
      ],
      "text/plain": [
       "   codificacion__sex_male  codificacion__embarked_Q  codificacion__embarked_S  \\\n",
       "0                     0.0                       0.0                       1.0   \n",
       "1                     1.0                       0.0                       1.0   \n",
       "2                     0.0                       0.0                       1.0   \n",
       "3                     1.0                       0.0                       1.0   \n",
       "4                     0.0                       0.0                       1.0   \n",
       "\n",
       "   codificacion__embarked_nan  scale__age  scale__sibsp  scale__fare  \n",
       "0                         0.0   -0.061162     -0.479087     3.441165  \n",
       "1                         0.0   -2.010496      0.481288     2.285603  \n",
       "2                         0.0   -1.935302      0.481288     2.285603  \n",
       "3                         0.0    0.008251      0.481288     2.285603  \n",
       "4                         0.0   -0.338812      0.481288     2.285603  "
      ]
     },
     "execution_count": 36,
     "metadata": {},
     "output_type": "execute_result"
    }
   ],
   "source": [
    "from sklearn.compose import ColumnTransformer\n",
    "\n",
    "# Cargamos de nuevo el conjunto de datos de titanic\n",
    "X, y = fetch_openml(\"titanic\", version=1, as_frame=True, return_X_y=True)\n",
    "\n",
    "column_transformer = ColumnTransformer(transformaciones,\n",
    "                                       remainder='drop', # la opción por defecto\n",
    "                                      n_jobs = 4 #para utilizar 4 cores en paralelo\n",
    "                                      )\n",
    "# Aplicamos el modelo anterior a nuestros datos\n",
    "X_transformados = column_transformer.fit_transform(X)\n",
    "\n",
    "# Obtenemos el conjunto de datos final\n",
    "X_final = pd.DataFrame(\n",
    "    X_transformados,\n",
    "    columns = column_transformer.get_feature_names_out()\n",
    ")\n",
    "X_final.head()"
   ]
  },
  {
   "cell_type": "markdown",
   "metadata": {},
   "source": [
    "Como puede verse el resultado final es el mismo que el obtenido anteriormente, pero se cuenta con la ventaja de su sencillez y rapidez de cálculo (esto último no se aprecia en este ejemplo ya que son pocos los datos tratados, pero sin embargo sí sería un aspecto a tener en cuenta si trabajamos con datos muy voluminosos)."
   ]
  },
  {
   "cell_type": "markdown",
   "metadata": {},
   "source": [
    "### La clase FeatureUnion.\n",
    "\n",
    "```{index} FeatureUnion (clase)\n",
    "```\n",
    "Esta clase es muy común utilizarla en las tuberías de Scikit Learn, por lo que se ha creído conveniente abrir un apartado en este momento para hacer una presentación de la misma. \n",
    "\n",
    "La clase [FeatureUnion](https://scikit-learn.org/stable/modules/generated/sklearn.pipeline.FeatureUnion.html#sklearn.pipeline.FeatureUnion) permite combinar una lista de objetos transformadores en un nuevo transformador combinando las salidas de cada uno de ellos. Las transformaciones individuales se hacen de forma independiente y por lo tanto se pueden hacer en paralelo lo que permite aligerar considerablemente los tiempos de cálculo cuando estamos trabajando con conjunto de datos muy voluminosos.\n",
    "\n",
    "Veamos a continuación un sencillo ejemplo sobre el uso de esta clase para entender mejor su significado y ver cómo funciona. \n"
   ]
  },
  {
   "cell_type": "code",
   "execution_count": 59,
   "metadata": {},
   "outputs": [
    {
     "data": {
      "text/plain": [
       "pclass       0\n",
       "age        263\n",
       "sibsp        0\n",
       "parch        0\n",
       "fare         1\n",
       "body      1188\n",
       "dtype: int64"
      ]
     },
     "execution_count": 59,
     "metadata": {},
     "output_type": "execute_result"
    }
   ],
   "source": [
    "# Cargamos el conjunto de datos de titanic\n",
    "X, y = fetch_openml(\"titanic\", version=1, as_frame=True, return_X_y=True)\n",
    "\n",
    "# Me quedo sólo con algunas columnas de dataset X\n",
    "X = X.loc[:,['pclass','age','sibsp','parch','fare','body']]\n",
    "\n",
    "\n",
    "# Vemos cuantos valores nulos hay\n",
    "X.isna().sum()"
   ]
  },
  {
   "cell_type": "markdown",
   "metadata": {},
   "source": [
    "Como la variable body tiene muchos datos sin valor la excluimos del análisis, y para el resto procedemos a imputar los valores faltantes, ya que de no hacerlo, el procedimiento nos generaría un error insalvable"
   ]
  },
  {
   "cell_type": "code",
   "execution_count": 60,
   "metadata": {},
   "outputs": [
    {
     "data": {
      "text/plain": [
       "pclass    0\n",
       "age       0\n",
       "sibsp     0\n",
       "parch     0\n",
       "fare      0\n",
       "dtype: int64"
      ]
     },
     "execution_count": 60,
     "metadata": {},
     "output_type": "execute_result"
    }
   ],
   "source": [
    "X = X.loc[:,['pclass','age','sibsp','parch','fare']]\n",
    "from sklearn.impute import SimpleImputer\n",
    "imp = SimpleImputer(missing_values=np.nan, strategy='mean')\n",
    "imp.fit(X)\n",
    "X = imp.transform(X)\n",
    "X = pd.DataFrame(X, columns = ['pclass','age','sibsp','parch','fare'])\n",
    "\n",
    "# Veamos si se han eliminado los valores faltantes\n",
    "X.isna().sum()"
   ]
  },
  {
   "cell_type": "markdown",
   "metadata": {},
   "source": [
    "Ahora que hemos imputados los datos faltantes, procedemos a utilizar la clase FeatureUnion"
   ]
  },
  {
   "cell_type": "code",
   "execution_count": 62,
   "metadata": {},
   "outputs": [
    {
     "data": {
      "text/plain": [
       "array([[177.81781185,  -8.93258131, 208.80805104,  43.61182102],\n",
       "       [116.83084503, -34.30148369, 143.09624244,  49.9257843 ],\n",
       "       [116.8800193 , -33.2197368 , 143.4593509 ,  48.90779431],\n",
       "       ...,\n",
       "       [-26.2051042 ,  -2.19046457,  15.73903475, -22.67356489],\n",
       "       [-26.18240769,  -1.69118141,  15.90662843, -23.14342088],\n",
       "       [-25.44232616,   0.27641764,  17.18927457, -24.80469269]])"
      ]
     },
     "execution_count": 62,
     "metadata": {},
     "output_type": "execute_result"
    }
   ],
   "source": [
    "from sklearn.pipeline import FeatureUnion\n",
    "from sklearn.decomposition import PCA, TruncatedSVD\n",
    "\n",
    "# definimos dos conjuntos de transformormadores\n",
    "union = FeatureUnion([(\"pca\", PCA(n_components=2)),\n",
    "                      (\"svd\", TruncatedSVD(n_components=2))])\n",
    "\n",
    "\n",
    "\n",
    "# Generamos ahora el nuevo conjunto de datos con las transformaciones indicadas antes\n",
    "resul = union.fit_transform(X)\n",
    "resul"
   ]
  },
  {
   "cell_type": "code",
   "execution_count": 63,
   "metadata": {},
   "outputs": [
    {
     "data": {
      "text/plain": [
       "(1309, 4)"
      ]
     },
     "execution_count": 63,
     "metadata": {},
     "output_type": "execute_result"
    }
   ],
   "source": [
    "resul.shape"
   ]
  },
  {
   "cell_type": "markdown",
   "metadata": {},
   "source": [
    "Como podemos comprobar en la salida anterior, tenemos como resultado un objeto de tipo numpyarray, con el mismo número de filas que el conjunto original y cuatro columnas, de tal manera que las dos primeras columnas se corresponden a la salida de un procedimiento PCA, pues le hemos indicado que conserve las dos primeras componentes, y las otras dos columnas se corresponden a la salida de la clase TruncatedSVD a la que hemos indicado también que conserve 2 componentes."
   ]
  }
 ],
 "metadata": {
  "kernelspec": {
   "display_name": "Python 3",
   "language": "python",
   "name": "python3"
  },
  "language_info": {
   "codemirror_mode": {
    "name": "ipython",
    "version": 3
   },
   "file_extension": ".py",
   "mimetype": "text/x-python",
   "name": "python",
   "nbconvert_exporter": "python",
   "pygments_lexer": "ipython3",
   "version": "3.7.6"
  },
  "toc": {
   "base_numbering": 1,
   "nav_menu": {},
   "number_sections": true,
   "sideBar": true,
   "skip_h1_title": false,
   "title_cell": "Table of Contents",
   "title_sidebar": "Contents",
   "toc_cell": false,
   "toc_position": {},
   "toc_section_display": true,
   "toc_window_display": false
  },
  "varInspector": {
   "cols": {
    "lenName": 16,
    "lenType": 16,
    "lenVar": 40
   },
   "kernels_config": {
    "python": {
     "delete_cmd_postfix": "",
     "delete_cmd_prefix": "del ",
     "library": "var_list.py",
     "varRefreshCmd": "print(var_dic_list())"
    },
    "r": {
     "delete_cmd_postfix": ") ",
     "delete_cmd_prefix": "rm(",
     "library": "var_list.r",
     "varRefreshCmd": "cat(var_dic_list()) "
    }
   },
   "types_to_exclude": [
    "module",
    "function",
    "builtin_function_or_method",
    "instance",
    "_Feature"
   ],
   "window_display": false
  }
 },
 "nbformat": 4,
 "nbformat_minor": 4
}
