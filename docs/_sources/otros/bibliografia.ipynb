{
 "cells": [
  {
   "cell_type": "markdown",
   "metadata": {},
   "source": [
    "# Bibliografia.\n",
    "\n",
    "## Sitios web interesantes.\n",
    "### General\n",
    "\n",
    "* <a href=\"https://scikit-learn.org/stable/\" target=\"_blank\">Scikit Learn</a>\n",
    "\n",
    "* <a href=\"https://interactivechaos.com/es/manual/tutorial-de-machine-learning/presentacion\" target=\"_blank\">Interactive Chaos</a>\n",
    "\n",
    "* <a href=\"https://rubenfcasal.github.io/aprendizaje_estadistico/\" target=\"_blank\"> Aprendizaje Estadístico</a>\n",
    "\n",
    "* <a href=\"https://rubenfcasal.github.io/simbook/\" target=\"_blank\"> Simulación estadística</a>\n",
    "\n",
    "### Support Vector Machines.\n",
    "\n",
    "* <a href=\"https://www.syncfusion.com/succinctly-free-ebooks/support-vector-machines-succinctly\" target=\"_blank\">Support Vector Machines Succinctly by Alexandre Kowalczyk </a>\n",
    "\n",
    "* <a href=\"https://www.researchgate.net/publication/263817587_Tutorial_sobre_Maquinas_de_Vectores_Soporte_SVM\" target=\"_blank\">Tutorial sobre Máquinas de Vector Soporte (SVM) Enrique J. Carmona Suárez </a>\n",
    "\n",
    "## Publicaciones.\n",
    "\n",
    "* A Practical Guide to Support Vector Classification by Chih-Wei Hsu, Chih-Chung Chang, and Chih-Jen Lin"
   ]
  },
  {
   "cell_type": "code",
   "execution_count": null,
   "metadata": {},
   "outputs": [],
   "source": []
  }
 ],
 "metadata": {
  "kernelspec": {
   "display_name": "Python 3",
   "language": "python",
   "name": "python3"
  },
  "language_info": {
   "codemirror_mode": {
    "name": "ipython",
    "version": 3
   },
   "file_extension": ".py",
   "mimetype": "text/x-python",
   "name": "python",
   "nbconvert_exporter": "python",
   "pygments_lexer": "ipython3",
   "version": "3.7.6"
  },
  "toc": {
   "base_numbering": 1,
   "nav_menu": {},
   "number_sections": true,
   "sideBar": true,
   "skip_h1_title": false,
   "title_cell": "Table of Contents",
   "title_sidebar": "Contents",
   "toc_cell": false,
   "toc_position": {},
   "toc_section_display": true,
   "toc_window_display": true
  },
  "varInspector": {
   "cols": {
    "lenName": 16,
    "lenType": 16,
    "lenVar": 40
   },
   "kernels_config": {
    "python": {
     "delete_cmd_postfix": "",
     "delete_cmd_prefix": "del ",
     "library": "var_list.py",
     "varRefreshCmd": "print(var_dic_list())"
    },
    "r": {
     "delete_cmd_postfix": ") ",
     "delete_cmd_prefix": "rm(",
     "library": "var_list.r",
     "varRefreshCmd": "cat(var_dic_list()) "
    }
   },
   "types_to_exclude": [
    "module",
    "function",
    "builtin_function_or_method",
    "instance",
    "_Feature"
   ],
   "window_display": false
  }
 },
 "nbformat": 4,
 "nbformat_minor": 4
}
